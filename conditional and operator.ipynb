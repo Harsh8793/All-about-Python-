{
 "cells": [
  {
   "cell_type": "markdown",
   "id": "37a3b0dc",
   "metadata": {},
   "source": [
    "# Python decision making and loops\n",
    "*if statement \n",
    "*if else\n",
    "*for loops\n",
    "*break and continue\n",
    "*relational operator\n",
    "*boolean operator|"
   ]
  },
  {
   "cell_type": "markdown",
   "id": "a80aeac9",
   "metadata": {},
   "source": [
    "# 1) if statement"
   ]
  },
  {
   "cell_type": "code",
   "execution_count": null,
   "id": "ebc8d30c",
   "metadata": {},
   "outputs": [],
   "source": [
    "#EG1  presenti sheet\n",
    "\n",
    "if 'Harshal' in ['Rohit','Harshal','Pratik']:\n",
    "    print(\"harshal is present in the class\")\n",
    "\n"
   ]
  },
  {
   "cell_type": "code",
   "execution_count": null,
   "id": "0cd8591d",
   "metadata": {},
   "outputs": [],
   "source": [
    "#eg2\n",
    "a=56\n",
    "if a>50:\n",
    "    print(\"a is greater than 50\")"
   ]
  },
  {
   "cell_type": "code",
   "execution_count": null,
   "id": "e4098911",
   "metadata": {},
   "outputs": [],
   "source": [
    "#eg3\n",
    "#if student want to passed the exam he msut secured marks gretaer than equals to 60 out of 100\n",
    "passing_marks =60\n",
    "student_score = int(input())\n",
    "if (student_score >= passing_marks):\n",
    "    print(\"congratulations!, you have passed the exam\")"
   ]
  },
  {
   "cell_type": "markdown",
   "id": "0e08fa01",
   "metadata": {},
   "source": [
    "# 2) if else statement"
   ]
  },
  {
   "cell_type": "code",
   "execution_count": null,
   "id": "c13eabf1",
   "metadata": {},
   "outputs": [],
   "source": [
    "#eg1\n",
    "a=int(input())\n",
    "if (a>0):\n",
    "    print(\"no is positive\")\n",
    "else:\n",
    "    print(\"no is negative\")"
   ]
  },
  {
   "cell_type": "code",
   "execution_count": null,
   "id": "2b87ea47",
   "metadata": {},
   "outputs": [],
   "source": [
    "#eg2\n",
    "passing_marks =60\n",
    "student_score = int(input())\n",
    "if (student_score >= passing_marks):\n",
    "    print(\"congratulations!, you have passed the exam\")\n",
    "else:\n",
    "    print(\"Fail\")\n",
    "    print(\"better luck next time\")"
   ]
  },
  {
   "cell_type": "code",
   "execution_count": null,
   "id": "6907b67c",
   "metadata": {},
   "outputs": [],
   "source": [
    "#eg3\n",
    "hour = int(input())\n",
    "if (hour >14):\n",
    "    print(\"Good Evening\")\n",
    "else:\n",
    "    print(\"Godd day\")"
   ]
  },
  {
   "cell_type": "markdown",
   "id": "1825a071",
   "metadata": {},
   "source": [
    "# 3for loop"
   ]
  },
  {
   "cell_type": "code",
   "execution_count": null,
   "id": "4bd24066",
   "metadata": {},
   "outputs": [],
   "source": [
    "#eg1\n",
    "fruits = ['Apple','Banana','Guava']\n",
    "for i in fruits:\n",
    "    print(i)"
   ]
  },
  {
   "cell_type": "code",
   "execution_count": null,
   "id": "55a1b1b7",
   "metadata": {},
   "outputs": [],
   "source": [
    "#eg2\n",
    "for i in \"HARSHAL\":\n",
    "    print(i)"
   ]
  },
  {
   "cell_type": "code",
   "execution_count": null,
   "id": "dc7b9153",
   "metadata": {},
   "outputs": [],
   "source": [
    "#eg3\n",
    "for i in range(50,100,5):\n",
    "    print(i)"
   ]
  },
  {
   "cell_type": "markdown",
   "id": "97235d0b",
   "metadata": {},
   "source": [
    "# 4)Break and continue"
   ]
  },
  {
   "cell_type": "code",
   "execution_count": null,
   "id": "f63a2eb3",
   "metadata": {},
   "outputs": [],
   "source": [
    "#eg1\n",
    "fruits = ['Apple','Banana','Guava']\n",
    "for i in fruits:\n",
    "    print(i)\n",
    "    fruits=='Banana'\n",
    "    break"
   ]
  },
  {
   "cell_type": "code",
   "execution_count": null,
   "id": "541f554a",
   "metadata": {},
   "outputs": [],
   "source": [
    "#eg2\n",
    "fruits = ['Apple','Banana','Guava']\n",
    "for i in fruits:\n",
    "    if i == 'Banana':\n",
    "        continue\n",
    "    print(i)"
   ]
  },
  {
   "cell_type": "code",
   "execution_count": null,
   "id": "231ab8d6",
   "metadata": {},
   "outputs": [],
   "source": [
    "#eg3\n",
    "for i in \"HARSHAL\":\n",
    "    if i == 'S':\n",
    "        break\n",
    "    print(i)\n",
    "   "
   ]
  },
  {
   "cell_type": "markdown",
   "id": "64ed76b5",
   "metadata": {},
   "source": [
    "# 5) relational operator"
   ]
  },
  {
   "cell_type": "code",
   "execution_count": null,
   "id": "70df9f00",
   "metadata": {},
   "outputs": [],
   "source": [
    "#eg1\n",
    "a=int(input())\n",
    "b=int(input())\n",
    "if (a>b):\n",
    "    print(\"a is gretaer than b\")\n",
    "else:\n",
    "    print(\"a is less than b\")"
   ]
  },
  {
   "cell_type": "code",
   "execution_count": null,
   "id": "ac0f770d",
   "metadata": {},
   "outputs": [],
   "source": [
    "#eg2\n",
    "a=int(input())\n",
    "b=int(input())\n",
    "if (a!=b):\n",
    "    print(\"a is not equal to b\")\n",
    "else:\n",
    "    print(\"a is equal to b\")"
   ]
  },
  {
   "cell_type": "code",
   "execution_count": null,
   "id": "5c5b66f5",
   "metadata": {},
   "outputs": [],
   "source": [
    "#eg3\n",
    "a=int(input())\n",
    "b=int(input())\n",
    "if (a >= b):\n",
    "       print(\"a is gretaer than equals to b\")\n",
    "else:\n",
    "    print(\"a is less than equal to  b\")"
   ]
  },
  {
   "cell_type": "markdown",
   "id": "fc5753ab",
   "metadata": {},
   "source": [
    "# 6) Boolean operator"
   ]
  },
  {
   "cell_type": "code",
   "execution_count": null,
   "id": "e6495246",
   "metadata": {},
   "outputs": [],
   "source": [
    "#eg1\n",
    "a = 30\n",
    "b = 45\n",
    "if(a > 30 and b == 45):\n",
    "    print(\"True\")\n",
    "\n",
    "else:\n",
    "    print(\"False\")"
   ]
  },
  {
   "cell_type": "code",
   "execution_count": null,
   "id": "af7c7b9e",
   "metadata": {},
   "outputs": [],
   "source": [
    "a =8\n",
    "b =9\n",
    "if(not(a == b)):\n",
    "  print(\"If Executed\")\n",
    "else:\n",
    "  print(\"Else Executed\")"
   ]
  },
  {
   "cell_type": "code",
   "execution_count": null,
   "id": "93289677",
   "metadata": {},
   "outputs": [],
   "source": [
    "#eg3\n",
    "print((-0.9 > 5.3) and (1.8 < 4.1))"
   ]
  },
  {
   "cell_type": "code",
   "execution_count": null,
   "id": "5760cc8d",
   "metadata": {},
   "outputs": [],
   "source": []
  }
 ],
 "metadata": {
  "kernelspec": {
   "display_name": "Python 3",
   "language": "python",
   "name": "python3"
  },
  "language_info": {
   "codemirror_mode": {
    "name": "ipython",
    "version": 3
   },
   "file_extension": ".py",
   "mimetype": "text/x-python",
   "name": "python",
   "nbconvert_exporter": "python",
   "pygments_lexer": "ipython3",
   "version": "3.8.8"
  }
 },
 "nbformat": 4,
 "nbformat_minor": 5
}
