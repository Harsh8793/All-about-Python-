{
 "cells": [
  {
   "cell_type": "markdown",
   "id": "8fc21452",
   "metadata": {},
   "source": [
    "## Harshal Shivaji Holam - 2102451\n",
    "## Python Notebook"
   ]
  },
  {
   "cell_type": "markdown",
   "id": "fcd3f012",
   "metadata": {},
   "source": [
    "\n",
    "# 25 / 07 / 2022"
   ]
  },
  {
   "cell_type": "markdown",
   "id": "59c8d7f9",
   "metadata": {},
   "source": [
    "#### what are variables?\n",
    " variable are name given to an object"
   ]
  },
  {
   "cell_type": "code",
   "execution_count": 2,
   "id": "83c315f2",
   "metadata": {},
   "outputs": [],
   "source": [
    "x = 5"
   ]
  },
  {
   "cell_type": "code",
   "execution_count": 4,
   "id": "5f8af82b",
   "metadata": {},
   "outputs": [],
   "source": [
    "harsh = 9"
   ]
  },
  {
   "cell_type": "code",
   "execution_count": 6,
   "id": "4a9eb77d",
   "metadata": {},
   "outputs": [
    {
     "data": {
      "text/plain": [
       "9"
      ]
     },
     "execution_count": 6,
     "metadata": {},
     "output_type": "execute_result"
    }
   ],
   "source": [
    "harsh"
   ]
  },
  {
   "cell_type": "code",
   "execution_count": 7,
   "id": "7ffa238e",
   "metadata": {},
   "outputs": [],
   "source": [
    "print = 6"
   ]
  },
  {
   "cell_type": "code",
   "execution_count": 9,
   "id": "5c053a8b",
   "metadata": {},
   "outputs": [
    {
     "data": {
      "text/plain": [
       "6"
      ]
     },
     "execution_count": 9,
     "metadata": {},
     "output_type": "execute_result"
    }
   ],
   "source": [
    "print"
   ]
  },
  {
   "cell_type": "code",
   "execution_count": 12,
   "id": "de78eb6d",
   "metadata": {},
   "outputs": [],
   "source": [
    "#for = 9  #it cant be run as for is keyword ...there are 33 keywords"
   ]
  },
  {
   "cell_type": "code",
   "execution_count": 14,
   "id": "ce741ea1",
   "metadata": {},
   "outputs": [],
   "source": [
    "A=5\n",
    "a=6   #both are different as python is case sensitive"
   ]
  },
  {
   "cell_type": "code",
   "execution_count": 17,
   "id": "334dff55",
   "metadata": {},
   "outputs": [],
   "source": [
    "_harsh = 9   #variables can start only with speacial character underscore"
   ]
  },
  {
   "cell_type": "code",
   "execution_count": 21,
   "id": "a7a44896",
   "metadata": {},
   "outputs": [],
   "source": [
    "#   @harsh = 5  #it is invalid ... other than underscore\n",
    "# 9harsh = 2 #invalid as variables can start only with alphabet or underscore"
   ]
  },
  {
   "cell_type": "markdown",
   "id": "acd69d06",
   "metadata": {},
   "source": [
    "# Data Types\n",
    "there are four data types\n",
    "1. integer\n",
    "2. float\n",
    "3. string\n",
    "4. boolean\n"
   ]
  },
  {
   "cell_type": "markdown",
   "id": "8327c35b",
   "metadata": {},
   "source": [
    "### Integer"
   ]
  },
  {
   "cell_type": "code",
   "execution_count": 23,
   "id": "41f9aaa7",
   "metadata": {},
   "outputs": [
    {
     "data": {
      "text/plain": [
       "int"
      ]
     },
     "execution_count": 23,
     "metadata": {},
     "output_type": "execute_result"
    }
   ],
   "source": [
    "a = 5\n",
    "type(a)"
   ]
  },
  {
   "cell_type": "markdown",
   "id": "8adb1fe2",
   "metadata": {},
   "source": [
    "### Float"
   ]
  },
  {
   "cell_type": "code",
   "execution_count": 25,
   "id": "2c975b0f",
   "metadata": {},
   "outputs": [
    {
     "data": {
      "text/plain": [
       "float"
      ]
     },
     "execution_count": 25,
     "metadata": {},
     "output_type": "execute_result"
    }
   ],
   "source": [
    "f = 5.9\n",
    "type(f)"
   ]
  },
  {
   "cell_type": "markdown",
   "id": "33bb76a5",
   "metadata": {},
   "source": [
    "### Boolean"
   ]
  },
  {
   "cell_type": "code",
   "execution_count": 31,
   "id": "35580a8b",
   "metadata": {},
   "outputs": [
    {
     "data": {
      "text/plain": [
       "False"
      ]
     },
     "execution_count": 31,
     "metadata": {},
     "output_type": "execute_result"
    }
   ],
   "source": [
    "a=5\n",
    "b=6\n",
    "a==b"
   ]
  },
  {
   "cell_type": "code",
   "execution_count": 37,
   "id": "6816537c",
   "metadata": {},
   "outputs": [
    {
     "data": {
      "text/plain": [
       "True"
      ]
     },
     "execution_count": 37,
     "metadata": {},
     "output_type": "execute_result"
    }
   ],
   "source": [
    "k=9\n",
    "h = 9\n",
    "k == h"
   ]
  },
  {
   "cell_type": "markdown",
   "id": "9b6bc666",
   "metadata": {},
   "source": [
    "### string"
   ]
  },
  {
   "cell_type": "code",
   "execution_count": 38,
   "id": "8de9f72b",
   "metadata": {},
   "outputs": [
    {
     "data": {
      "text/plain": [
       "str"
      ]
     },
     "execution_count": 38,
     "metadata": {},
     "output_type": "execute_result"
    }
   ],
   "source": [
    "a = \"harsh\"\n",
    "type(a)"
   ]
  },
  {
   "cell_type": "markdown",
   "id": "830c27b6",
   "metadata": {},
   "source": [
    "# 25 / 07 / 2022"
   ]
  },
  {
   "cell_type": "markdown",
   "id": "4190cace",
   "metadata": {},
   "source": [
    "# Operators\n",
    "1.arithmatic\n",
    "2.comparison\n",
    "3.logical"
   ]
  },
  {
   "cell_type": "markdown",
   "id": "bbe3956b",
   "metadata": {},
   "source": [
    "### ARITHMATIC"
   ]
  },
  {
   "cell_type": "code",
   "execution_count": 41,
   "id": "627a7b3d",
   "metadata": {},
   "outputs": [
    {
     "data": {
      "text/plain": [
       "16"
      ]
     },
     "execution_count": 41,
     "metadata": {},
     "output_type": "execute_result"
    }
   ],
   "source": [
    "#ADDITION\n",
    "a=9\n",
    "b=7\n",
    "k=a+b\n",
    "k"
   ]
  },
  {
   "cell_type": "code",
   "execution_count": 42,
   "id": "a1521e05",
   "metadata": {},
   "outputs": [
    {
     "data": {
      "text/plain": [
       "2"
      ]
     },
     "execution_count": 42,
     "metadata": {},
     "output_type": "execute_result"
    }
   ],
   "source": [
    "#SUBSTRACTION\n",
    "a=9\n",
    "b=7\n",
    "k=a-b\n",
    "k"
   ]
  },
  {
   "cell_type": "code",
   "execution_count": 43,
   "id": "1ad6730d",
   "metadata": {},
   "outputs": [
    {
     "data": {
      "text/plain": [
       "63"
      ]
     },
     "execution_count": 43,
     "metadata": {},
     "output_type": "execute_result"
    }
   ],
   "source": [
    "#MULTIPLICATION\n",
    "a=9\n",
    "b=7\n",
    "k=a*b\n",
    "k"
   ]
  },
  {
   "cell_type": "code",
   "execution_count": 44,
   "id": "516fb3d6",
   "metadata": {},
   "outputs": [
    {
     "data": {
      "text/plain": [
       "1.2857142857142858"
      ]
     },
     "execution_count": 44,
     "metadata": {},
     "output_type": "execute_result"
    }
   ],
   "source": [
    "#DIVISION\n",
    "a=9\n",
    "b=7\n",
    "k=a/b\n",
    "k"
   ]
  },
  {
   "cell_type": "code",
   "execution_count": 45,
   "id": "88de6966",
   "metadata": {},
   "outputs": [
    {
     "data": {
      "text/plain": [
       "2"
      ]
     },
     "execution_count": 45,
     "metadata": {},
     "output_type": "execute_result"
    }
   ],
   "source": [
    "#MODULO  \n",
    "a=9\n",
    "b=7\n",
    "k=a%b\n",
    "k"
   ]
  },
  {
   "cell_type": "code",
   "execution_count": 47,
   "id": "99c10554",
   "metadata": {},
   "outputs": [
    {
     "data": {
      "text/plain": [
       "1"
      ]
     },
     "execution_count": 47,
     "metadata": {},
     "output_type": "execute_result"
    }
   ],
   "source": [
    "#FLOOR DIVISION\n",
    "a=9\n",
    "b=7\n",
    "k=a//b\n",
    "k"
   ]
  },
  {
   "cell_type": "code",
   "execution_count": 49,
   "id": "d48cca85",
   "metadata": {
    "scrolled": true
   },
   "outputs": [
    {
     "data": {
      "text/plain": [
       "4782969"
      ]
     },
     "execution_count": 49,
     "metadata": {},
     "output_type": "execute_result"
    }
   ],
   "source": [
    "#EXPONENT\n",
    "a=9\n",
    "b=7\n",
    "k=a**b\n",
    "k"
   ]
  },
  {
   "cell_type": "markdown",
   "id": "7bc291b2",
   "metadata": {},
   "source": [
    "### COMPARISON"
   ]
  },
  {
   "cell_type": "code",
   "execution_count": 51,
   "id": "ef35f895",
   "metadata": {},
   "outputs": [
    {
     "data": {
      "text/plain": [
       "True"
      ]
     },
     "execution_count": 51,
     "metadata": {},
     "output_type": "execute_result"
    }
   ],
   "source": [
    "#GRETER THAN\n",
    "a=9\n",
    "b=7\n",
    "k=a>b\n",
    "k"
   ]
  },
  {
   "cell_type": "code",
   "execution_count": 52,
   "id": "bf18b497",
   "metadata": {},
   "outputs": [
    {
     "data": {
      "text/plain": [
       "False"
      ]
     },
     "execution_count": 52,
     "metadata": {},
     "output_type": "execute_result"
    }
   ],
   "source": [
    "#LESS THAN\n",
    "a=9\n",
    "b=7\n",
    "k=a<b\n",
    "k"
   ]
  },
  {
   "cell_type": "code",
   "execution_count": 54,
   "id": "8b0ecdb1",
   "metadata": {},
   "outputs": [
    {
     "data": {
      "text/plain": [
       "True"
      ]
     },
     "execution_count": 54,
     "metadata": {},
     "output_type": "execute_result"
    }
   ],
   "source": [
    "#NOT EQUALS TO\n",
    "a=9\n",
    "b=7\n",
    "k=a!=b\n",
    "k"
   ]
  },
  {
   "cell_type": "code",
   "execution_count": 56,
   "id": "f2cd9841",
   "metadata": {},
   "outputs": [
    {
     "data": {
      "text/plain": [
       "True"
      ]
     },
     "execution_count": 56,
     "metadata": {},
     "output_type": "execute_result"
    }
   ],
   "source": [
    "#GREATER THAN EQUALS TO\n",
    "a=9\n",
    "b=7\n",
    "k=a>=b\n",
    "k"
   ]
  },
  {
   "cell_type": "markdown",
   "id": "df148b25",
   "metadata": {},
   "source": [
    "### LOGICAL\n",
    "##### AND = if both the arguments are true then it is true ....ow its false\n",
    "##### OR = if either of the argument are true then it is true .... ow its false\n",
    "##### NOT = opposite of logical answer"
   ]
  },
  {
   "cell_type": "code",
   "execution_count": 57,
   "id": "d3269ad6",
   "metadata": {},
   "outputs": [
    {
     "data": {
      "text/plain": [
       "True"
      ]
     },
     "execution_count": 57,
     "metadata": {},
     "output_type": "execute_result"
    }
   ],
   "source": [
    "#AND\n",
    "a=9;b=7\n",
    "a<10 and b >6"
   ]
  },
  {
   "cell_type": "code",
   "execution_count": 59,
   "id": "4214cd5f",
   "metadata": {},
   "outputs": [
    {
     "data": {
      "text/plain": [
       "False"
      ]
     },
     "execution_count": 59,
     "metadata": {},
     "output_type": "execute_result"
    }
   ],
   "source": [
    "#AND\n",
    "a=9;b=7\n",
    "a>10 and b >6"
   ]
  },
  {
   "cell_type": "code",
   "execution_count": 61,
   "id": "05a2a76c",
   "metadata": {},
   "outputs": [
    {
     "data": {
      "text/plain": [
       "True"
      ]
     },
     "execution_count": 61,
     "metadata": {},
     "output_type": "execute_result"
    }
   ],
   "source": [
    "#OR\n",
    "a=9;b=7\n",
    "a<10 or b >6"
   ]
  },
  {
   "cell_type": "code",
   "execution_count": 63,
   "id": "9a43e3cd",
   "metadata": {},
   "outputs": [
    {
     "data": {
      "text/plain": [
       "False"
      ]
     },
     "execution_count": 63,
     "metadata": {},
     "output_type": "execute_result"
    }
   ],
   "source": [
    "#OR\n",
    "a=9;b=7\n",
    "a>10 or b <6"
   ]
  },
  {
   "cell_type": "code",
   "execution_count": 67,
   "id": "2a16ece1",
   "metadata": {},
   "outputs": [
    {
     "data": {
      "text/plain": [
       "False"
      ]
     },
     "execution_count": 67,
     "metadata": {},
     "output_type": "execute_result"
    }
   ],
   "source": [
    "#NOT\n",
    "a=5\n",
    "not a >4"
   ]
  },
  {
   "cell_type": "markdown",
   "id": "c195ef7b",
   "metadata": {},
   "source": [
    "# CONDITIONAL\n",
    "*if statement \n",
    "*if else\n",
    "*for loops\n",
    "*break and continue\n",
    "*relational operator\n",
    "*boolean operator|"
   ]
  },
  {
   "cell_type": "code",
   "execution_count": null,
   "id": "3e7d9c06",
   "metadata": {},
   "outputs": [],
   "source": [
    "fruits = ['Apple','Banana','Guava']\n",
    "for i in fruits:\n",
    "    print(i)"
   ]
  },
  {
   "cell_type": "code",
   "execution_count": 2,
   "id": "f2499c24",
   "metadata": {},
   "outputs": [
    {
     "name": "stdout",
     "output_type": "stream",
     "text": [
      "a is greater than b\n"
     ]
    }
   ],
   "source": [
    "# if else\n",
    "a=98\n",
    "b=45\n",
    "if (a>b):\n",
    "    print(\"a is greater than b\")\n",
    "else:\n",
    "    print(\"a is less than b\")"
   ]
  },
  {
   "cell_type": "code",
   "execution_count": 3,
   "id": "b7abad62",
   "metadata": {},
   "outputs": [
    {
     "name": "stdout",
     "output_type": "stream",
     "text": [
      "<class 'int'>86\n",
      "<class 'int'>87\n",
      "a is less than b\n"
     ]
    }
   ],
   "source": [
    "a=input(int)\n",
    "b=input(int)\n",
    "if (a>b):\n",
    "    print(\"a is greater than b\")\n",
    "else:\n",
    "    print(\"a is less than b\")"
   ]
  },
  {
   "cell_type": "code",
   "execution_count": 10,
   "id": "30886e3c",
   "metadata": {},
   "outputs": [
    {
     "name": "stdout",
     "output_type": "stream",
     "text": [
      "sorry you are not eligible for voting!\n"
     ]
    }
   ],
   "source": [
    "age = 15\n",
    "if (age > 18):\n",
    "    print(\"eligible for voting\")\n",
    "elif (age == 18):\n",
    "    print(\"yes ! , you are eligible or voting\")\n",
    "else:\n",
    "    print(\"sorry you are not eligible for voting!\")"
   ]
  },
  {
   "cell_type": "code",
   "execution_count": 32,
   "id": "b885a792",
   "metadata": {},
   "outputs": [
    {
     "name": "stdout",
     "output_type": "stream",
     "text": [
      "45\n",
      "Fail\n",
      "better luck next time\n"
     ]
    }
   ],
   "source": [
    "passing_marks =60\n",
    "student_score = int(input())\n",
    "if (student_score >= passing_marks):\n",
    "    print(\"congratulations!, you have passed the exam\")\n",
    "else:\n",
    "    print(\"Fail\")\n",
    "    print(\"better luck next time\")"
   ]
  },
  {
   "cell_type": "code",
   "execution_count": null,
   "id": "b2f6e7b5",
   "metadata": {},
   "outputs": [],
   "source": [
    "#if student want to passed the exam he msut secured marks gretaer than equals to 60 out of 100\n",
    "passing_marks =60\n",
    "student_score = int(input())\n",
    "if (student_score >= passing_marks):\n",
    "    print(\"congratulations!, you have passed the exam\")"
   ]
  },
  {
   "cell_type": "code",
   "execution_count": null,
   "id": "ee80fb97",
   "metadata": {},
   "outputs": [],
   "source": [
    "fruits = ['Apple','Banana','Guava']\n",
    "for i in fruits:\n",
    "    print(i)\n",
    "    fruits=='Banana'\n",
    "    break"
   ]
  },
  {
   "cell_type": "code",
   "execution_count": null,
   "id": "7a5e9d84",
   "metadata": {},
   "outputs": [],
   "source": [
    "fruits = ['Apple','Banana','Guava']\n",
    "for i in fruits:\n",
    "    if i == 'Banana':\n",
    "        continue\n",
    "    print(i)"
   ]
  },
  {
   "cell_type": "code",
   "execution_count": null,
   "id": "f24c91b4",
   "metadata": {},
   "outputs": [],
   "source": [
    "for i in \"HARSHAL\":\n",
    "    if i == 'S':\n",
    "        break\n",
    "    print(i)"
   ]
  },
  {
   "cell_type": "code",
   "execution_count": null,
   "id": "c234ba91",
   "metadata": {},
   "outputs": [],
   "source": [
    "a=int(input())\n",
    "b=int(input())\n",
    "if (a!=b):\n",
    "    print(\"a is not equal to b\")\n",
    "else:\n",
    "    print(\"a is equal to b\")"
   ]
  },
  {
   "cell_type": "code",
   "execution_count": null,
   "id": "964bda0e",
   "metadata": {},
   "outputs": [],
   "source": [
    "a = 30\n",
    "b = 45\n",
    "if(a > 30 and b == 45):\n",
    "    print(\"True\")\n",
    "\n",
    "else:\n",
    "    print(\"False\")"
   ]
  },
  {
   "cell_type": "code",
   "execution_count": null,
   "id": "8c54aada",
   "metadata": {},
   "outputs": [],
   "source": [
    "a =8\n",
    "b =9\n",
    "if(not(a == b)):\n",
    "  print(\"If Executed\")\n",
    "else:\n",
    "  print(\"Else Executed\""
   ]
  },
  {
   "cell_type": "markdown",
   "id": "a3d535cd",
   "metadata": {},
   "source": [
    "# Looping construct"
   ]
  },
  {
   "cell_type": "code",
   "execution_count": 24,
   "id": "ed540022",
   "metadata": {},
   "outputs": [
    {
     "name": "stdout",
     "output_type": "stream",
     "text": [
      "87\n",
      "89\n",
      "91\n",
      "93\n",
      "95\n",
      "97\n"
     ]
    }
   ],
   "source": [
    "for marks in range(87,99,2):       #87 as starting point , 99 as ending point , 2 as difference\n",
    "    print( marks)"
   ]
  },
  {
   "cell_type": "code",
   "execution_count": 16,
   "id": "698c19a4",
   "metadata": {},
   "outputs": [
    {
     "name": "stdout",
     "output_type": "stream",
     "text": [
      "0\n",
      "1\n",
      "2\n",
      "3\n",
      "4\n"
     ]
    }
   ],
   "source": [
    "for a in range(5):   #5 is end point but its not include\n",
    "    print(a)"
   ]
  },
  {
   "cell_type": "code",
   "execution_count": 17,
   "id": "a90d6d9d",
   "metadata": {},
   "outputs": [
    {
     "name": "stdout",
     "output_type": "stream",
     "text": [
      "5\n",
      "6\n",
      "7\n",
      "8\n",
      "9\n"
     ]
    }
   ],
   "source": [
    "for a in range (5,10):   #5 is start point and 10 is end point\n",
    "    print(a)"
   ]
  },
  {
   "cell_type": "code",
   "execution_count": 25,
   "id": "ea5de0bd",
   "metadata": {},
   "outputs": [
    {
     "name": "stdout",
     "output_type": "stream",
     "text": [
      "H\n",
      "a\n",
      "r\n",
      "s\n",
      "h\n",
      "a\n",
      "l\n"
     ]
    }
   ],
   "source": [
    "#loops for strings\n",
    "word= 'Harshal'\n",
    "for char in word:\n",
    "    print(char)"
   ]
  },
  {
   "cell_type": "code",
   "execution_count": 26,
   "id": "59f2ab19",
   "metadata": {},
   "outputs": [
    {
     "name": "stdout",
     "output_type": "stream",
     "text": [
      "H\n",
      "r\n",
      "h\n",
      "l\n"
     ]
    }
   ],
   "source": [
    "#for alternative output\n",
    "for char in word[::2]:\n",
    "    print(char)"
   ]
  },
  {
   "cell_type": "code",
   "execution_count": 27,
   "id": "d6b5025b",
   "metadata": {},
   "outputs": [
    {
     "name": "stdout",
     "output_type": "stream",
     "text": [
      "I love India\n",
      "I love India\n",
      "I love India\n",
      "I love India\n",
      "I love India\n",
      "I love India\n",
      "I love India\n",
      "I love India\n",
      "I love India\n",
      "I love India\n"
     ]
    }
   ],
   "source": [
    "for i in range(10):    #stop condition\n",
    "    print(\"I love India\")"
   ]
  },
  {
   "cell_type": "code",
   "execution_count": 31,
   "id": "8647856d",
   "metadata": {},
   "outputs": [
    {
     "name": "stdout",
     "output_type": "stream",
     "text": [
      "1 H\n",
      "1 A\n",
      "1 R\n",
      "1 S\n",
      "1 H\n",
      "1 A\n",
      "1 L\n",
      "1  \n",
      "2 H\n",
      "2 A\n",
      "2 R\n",
      "2 S\n",
      "2 H\n",
      "2 A\n",
      "2 L\n",
      "2  \n",
      "3 H\n",
      "3 A\n",
      "3 R\n",
      "3 S\n",
      "3 H\n",
      "3 A\n",
      "3 L\n",
      "3  \n"
     ]
    }
   ],
   "source": [
    "#Nested for loop\n",
    "#define the range of outer loop \n",
    "for i in range(1,4):        #outer loop\n",
    "    for j in \"HARSHAL \":         #inner loop       #it take space also\n",
    "        print(i,j)"
   ]
  },
  {
   "cell_type": "code",
   "execution_count": 34,
   "id": "110d4b63",
   "metadata": {},
   "outputs": [
    {
     "name": "stdout",
     "output_type": "stream",
     "text": [
      "0\n",
      "1\n",
      "2\n",
      "3\n"
     ]
    }
   ],
   "source": [
    "n=0\n",
    "while (n<4):\n",
    "    print(n)\n",
    "    n=n+1"
   ]
  },
  {
   "cell_type": "markdown",
   "id": "42cb350b",
   "metadata": {},
   "source": [
    "# Data structure"
   ]
  },
  {
   "cell_type": "code",
   "execution_count": 36,
   "id": "cf24903a",
   "metadata": {},
   "outputs": [],
   "source": [
    "list=[87,93,'India','pune',['NAshik','Mumbai']]"
   ]
  },
  {
   "cell_type": "code",
   "execution_count": 38,
   "id": "706ae5fd",
   "metadata": {},
   "outputs": [
    {
     "data": {
      "text/plain": [
       "'India'"
      ]
     },
     "execution_count": 38,
     "metadata": {},
     "output_type": "execute_result"
    }
   ],
   "source": [
    "#extraction\n",
    "list[2]     #no starting from 0"
   ]
  },
  {
   "cell_type": "code",
   "execution_count": 40,
   "id": "6c5f5fd8",
   "metadata": {},
   "outputs": [
    {
     "data": {
      "text/plain": [
       "['India', 'pune']"
      ]
     },
     "execution_count": 40,
     "metadata": {},
     "output_type": "execute_result"
    }
   ],
   "source": [
    "list[2:4]  #2 is start index and 4 is end index"
   ]
  },
  {
   "cell_type": "code",
   "execution_count": 50,
   "id": "34d6ffee",
   "metadata": {},
   "outputs": [
    {
     "data": {
      "text/plain": [
       "'red'"
      ]
     },
     "execution_count": 50,
     "metadata": {},
     "output_type": "execute_result"
    }
   ],
   "source": [
    "list[-2]"
   ]
  },
  {
   "cell_type": "code",
   "execution_count": 43,
   "id": "6afc397e",
   "metadata": {},
   "outputs": [
    {
     "data": {
      "text/plain": [
       "[87, 93, 'India', 'pune', ['NAshik', 'Mumbai'], 4, 4, 4]"
      ]
     },
     "execution_count": 43,
     "metadata": {},
     "output_type": "execute_result"
    }
   ],
   "source": [
    "#add element in list\n",
    "list.append(4)\n",
    "list"
   ]
  },
  {
   "cell_type": "code",
   "execution_count": 45,
   "id": "2c90b761",
   "metadata": {},
   "outputs": [
    {
     "data": {
      "text/plain": [
       "[87,\n",
       " 93,\n",
       " 'India',\n",
       " 'pune',\n",
       " ['NAshik', 'Mumbai'],\n",
       " 4,\n",
       " 4,\n",
       " 4,\n",
       " 'harshal',\n",
       " 'red',\n",
       " 'harshal',\n",
       " 'red']"
      ]
     },
     "execution_count": 45,
     "metadata": {},
     "output_type": "execute_result"
    }
   ],
   "source": [
    "#add multiple element\n",
    "list.extend(['harshal','red'])\n",
    "list"
   ]
  },
  {
   "cell_type": "code",
   "execution_count": 46,
   "id": "d6f99fa2",
   "metadata": {},
   "outputs": [
    {
     "data": {
      "text/plain": [
       "[87,\n",
       " 93,\n",
       " 'India',\n",
       " 'pune',\n",
       " ['NAshik', 'Mumbai'],\n",
       " 4,\n",
       " 4,\n",
       " 4,\n",
       " 'harshal',\n",
       " 'red',\n",
       " 'harshal',\n",
       " 'red',\n",
       " [1, 2]]"
      ]
     },
     "execution_count": 46,
     "metadata": {},
     "output_type": "execute_result"
    }
   ],
   "source": [
    "#adding list in list\n",
    "list.append([1,2])\n",
    "list"
   ]
  },
  {
   "cell_type": "code",
   "execution_count": 48,
   "id": "8a4ecb79",
   "metadata": {},
   "outputs": [
    {
     "data": {
      "text/plain": [
       "[87,\n",
       " 93,\n",
       " 'India',\n",
       " 'pune',\n",
       " ['NAshik', 'Mumbai'],\n",
       " 4,\n",
       " 'harshal',\n",
       " 'red',\n",
       " 'harshal',\n",
       " 'red',\n",
       " [1, 2]]"
      ]
     },
     "execution_count": 48,
     "metadata": {},
     "output_type": "execute_result"
    }
   ],
   "source": [
    "#delete element from list\n",
    "list.remove(4)\n",
    "list"
   ]
  },
  {
   "cell_type": "code",
   "execution_count": 49,
   "id": "967d06c9",
   "metadata": {},
   "outputs": [
    {
     "data": {
      "text/plain": [
       "[87,\n",
       " 93,\n",
       " 'pune',\n",
       " ['NAshik', 'Mumbai'],\n",
       " 4,\n",
       " 'harshal',\n",
       " 'red',\n",
       " 'harshal',\n",
       " 'red',\n",
       " [1, 2]]"
      ]
     },
     "execution_count": 49,
     "metadata": {},
     "output_type": "execute_result"
    }
   ],
   "source": [
    "#delete element from list by indexing\n",
    "del list[2]\n",
    "list"
   ]
  },
  {
   "cell_type": "code",
   "execution_count": 52,
   "id": "2118d565",
   "metadata": {},
   "outputs": [
    {
     "data": {
      "text/plain": [
       "5"
      ]
     },
     "execution_count": 52,
     "metadata": {},
     "output_type": "execute_result"
    }
   ],
   "source": [
    "list.index('harshal')"
   ]
  },
  {
   "cell_type": "code",
   "execution_count": 53,
   "id": "b33e94c1",
   "metadata": {},
   "outputs": [
    {
     "data": {
      "text/plain": [
       "[87,\n",
       " 93,\n",
       " 'F',\n",
       " 'pune',\n",
       " ['NAshik', 'Mumbai'],\n",
       " 4,\n",
       " 'harshal',\n",
       " 'red',\n",
       " 'harshal',\n",
       " 'red',\n",
       " [1, 2]]"
      ]
     },
     "execution_count": 53,
     "metadata": {},
     "output_type": "execute_result"
    }
   ],
   "source": [
    "list.insert(2,'F')         #insert 'F' in the 2nd position\n",
    "list"
   ]
  },
  {
   "cell_type": "code",
   "execution_count": 55,
   "id": "2a951223",
   "metadata": {},
   "outputs": [
    {
     "data": {
      "text/plain": [
       "True"
      ]
     },
     "execution_count": 55,
     "metadata": {},
     "output_type": "execute_result"
    }
   ],
   "source": [
    " 'red' in list  #presence of list"
   ]
  },
  {
   "cell_type": "code",
   "execution_count": 56,
   "id": "76473a01",
   "metadata": {},
   "outputs": [
    {
     "data": {
      "text/plain": [
       "11"
      ]
     },
     "execution_count": 56,
     "metadata": {},
     "output_type": "execute_result"
    }
   ],
   "source": [
    "len(list)"
   ]
  },
  {
   "cell_type": "code",
   "execution_count": 62,
   "id": "7406cb9f",
   "metadata": {},
   "outputs": [],
   "source": [
    "b=list.reverse()\n",
    "b"
   ]
  },
  {
   "cell_type": "code",
   "execution_count": 63,
   "id": "12e6046d",
   "metadata": {},
   "outputs": [
    {
     "data": {
      "text/plain": [
       "[87,\n",
       " 93,\n",
       " 'F',\n",
       " 'pune',\n",
       " ['NAshik', 'Mumbai'],\n",
       " 4,\n",
       " 'harshal',\n",
       " 'red',\n",
       " 'harshal',\n",
       " 'red',\n",
       " [1, 2]]"
      ]
     },
     "execution_count": 63,
     "metadata": {},
     "output_type": "execute_result"
    }
   ],
   "source": [
    "list"
   ]
  },
  {
   "cell_type": "code",
   "execution_count": 65,
   "id": "31bce323",
   "metadata": {},
   "outputs": [
    {
     "data": {
      "text/plain": [
       "'Mumbai'"
      ]
     },
     "execution_count": 65,
     "metadata": {},
     "output_type": "execute_result"
    }
   ],
   "source": [
    "list[4][1] #access element from list of list"
   ]
  },
  {
   "cell_type": "markdown",
   "id": "987a118e",
   "metadata": {},
   "source": [
    "#### set"
   ]
  },
  {
   "cell_type": "code",
   "execution_count": 68,
   "id": "8dd1f32a",
   "metadata": {},
   "outputs": [],
   "source": [
    "#Student score\n",
    "scores=[['Name', ['A','B','C','D','E']],\n",
    "               ['Harsh', [55,22,24,65,78]],\n",
    "               ['roh', [50,39,42,49,70]],\n",
    "               ['xyz', [60,89,48,20,93]],\n",
    "               ['bkp', [80,67,39,81,99]],\n",
    "               ['swk', [90,67,50,96,90]]]"
   ]
  },
  {
   "cell_type": "code",
   "execution_count": 69,
   "id": "954b7db0",
   "metadata": {},
   "outputs": [
    {
     "data": {
      "text/plain": [
       "[['Name', ['A', 'B', 'C', 'D', 'E']],\n",
       " ['Harsh', [55, 22, 24, 65, 78]],\n",
       " ['roh', [50, 39, 42, 49, 70]],\n",
       " ['xyz', [60, 89, 48, 20, 93]],\n",
       " ['bkp', [80, 67, 39, 81, 99]],\n",
       " ['swk', [90, 67, 50, 96, 90]]]"
      ]
     },
     "execution_count": 69,
     "metadata": {},
     "output_type": "execute_result"
    }
   ],
   "source": [
    "scores"
   ]
  },
  {
   "cell_type": "code",
   "execution_count": 71,
   "id": "5d9328e3",
   "metadata": {},
   "outputs": [
    {
     "data": {
      "text/plain": [
       "['swk', [90, 67, 50, 96, 90]]"
      ]
     },
     "execution_count": 71,
     "metadata": {},
     "output_type": "execute_result"
    }
   ],
   "source": [
    " scores[5]   #extraction"
   ]
  },
  {
   "cell_type": "code",
   "execution_count": 72,
   "id": "21958ed0",
   "metadata": {},
   "outputs": [
    {
     "data": {
      "text/plain": [
       "{1, 6, 8, 9}"
      ]
     },
     "execution_count": 72,
     "metadata": {},
     "output_type": "execute_result"
    }
   ],
   "source": [
    "#difference between two sets\n",
    "set1={1,2,3,6,8,9}\n",
    "set2={2,3,7,5,4,0}\n",
    "set1.difference(set2)"
   ]
  },
  {
   "cell_type": "code",
   "execution_count": 73,
   "id": "5128497c",
   "metadata": {},
   "outputs": [
    {
     "data": {
      "text/plain": [
       "{2, 3}"
      ]
     },
     "execution_count": 73,
     "metadata": {},
     "output_type": "execute_result"
    }
   ],
   "source": [
    "set1.intersection(set2)"
   ]
  },
  {
   "cell_type": "code",
   "execution_count": 74,
   "id": "1982e1c0",
   "metadata": {},
   "outputs": [
    {
     "data": {
      "text/plain": [
       "False"
      ]
     },
     "execution_count": 74,
     "metadata": {},
     "output_type": "execute_result"
    }
   ],
   "source": [
    "#check two sets are disjoint\n",
    "set1.isdisjoint(set2)"
   ]
  },
  {
   "cell_type": "code",
   "execution_count": 75,
   "id": "21bb5cbc",
   "metadata": {},
   "outputs": [
    {
     "data": {
      "text/plain": [
       "False"
      ]
     },
     "execution_count": 75,
     "metadata": {},
     "output_type": "execute_result"
    }
   ],
   "source": [
    "#subset or not\n",
    "set1.issubset(set2)"
   ]
  },
  {
   "cell_type": "code",
   "execution_count": 76,
   "id": "bcedfd54",
   "metadata": {},
   "outputs": [
    {
     "data": {
      "text/plain": [
       "False"
      ]
     },
     "execution_count": 76,
     "metadata": {},
     "output_type": "execute_result"
    }
   ],
   "source": [
    "#superset?\n",
    "set1.issuperset(set2)"
   ]
  },
  {
   "cell_type": "code",
   "execution_count": 77,
   "id": "c205afa2",
   "metadata": {},
   "outputs": [
    {
     "data": {
      "text/plain": [
       "{1, 2, 3, 6, 8, 9, 85, 778}"
      ]
     },
     "execution_count": 77,
     "metadata": {},
     "output_type": "execute_result"
    }
   ],
   "source": [
    "set1.update({778,85})\n",
    "set1"
   ]
  },
  {
   "cell_type": "code",
   "execution_count": 78,
   "id": "4cb8e9f2",
   "metadata": {},
   "outputs": [
    {
     "data": {
      "text/plain": [
       "{0, 1, 2, 3, 4, 5, 6, 7, 8, 9, 85, 778}"
      ]
     },
     "execution_count": 78,
     "metadata": {},
     "output_type": "execute_result"
    }
   ],
   "source": [
    "set1.union(set2)"
   ]
  },
  {
   "cell_type": "markdown",
   "id": "7d46254d",
   "metadata": {},
   "source": [
    "#### dictionary"
   ]
  },
  {
   "cell_type": "code",
   "execution_count": 79,
   "id": "88e2c003",
   "metadata": {},
   "outputs": [],
   "source": [
    "dict = {1: 'apple', 2: 'ball'}"
   ]
  },
  {
   "cell_type": "code",
   "execution_count": 80,
   "id": "2d217999",
   "metadata": {},
   "outputs": [
    {
     "data": {
      "text/plain": [
       "{1: 'apple', 2: 'ball'}"
      ]
     },
     "execution_count": 80,
     "metadata": {},
     "output_type": "execute_result"
    }
   ],
   "source": [
    "dict"
   ]
  },
  {
   "cell_type": "code",
   "execution_count": 82,
   "id": "b137abd6",
   "metadata": {},
   "outputs": [
    {
     "data": {
      "text/plain": [
       "'apple'"
      ]
     },
     "execution_count": 82,
     "metadata": {},
     "output_type": "execute_result"
    }
   ],
   "source": [
    "dict[1]   #accessed by key"
   ]
  },
  {
   "cell_type": "code",
   "execution_count": 85,
   "id": "2256810e",
   "metadata": {},
   "outputs": [],
   "source": [
    "dict[3]='cat'   #add element \n",
    "dict"
   ]
  },
  {
   "cell_type": "code",
   "execution_count": 88,
   "id": "c9a4ecd9",
   "metadata": {},
   "outputs": [
    {
     "data": {
      "text/plain": [
       "{1: 'apple', 2: 'ball', 3: 'cat', 4: 'xyz', 5: 'ghat'}"
      ]
     },
     "execution_count": 88,
     "metadata": {},
     "output_type": "execute_result"
    }
   ],
   "source": [
    "#add multiple element\n",
    "dict.update({4: 'xyz',5:'ghat'})\n",
    "dict"
   ]
  },
  {
   "cell_type": "code",
   "execution_count": 89,
   "id": "d18e09a9",
   "metadata": {},
   "outputs": [
    {
     "data": {
      "text/plain": [
       "{2: 'ball', 3: 'cat', 4: 'xyz', 5: 'ghat'}"
      ]
     },
     "execution_count": 89,
     "metadata": {},
     "output_type": "execute_result"
    }
   ],
   "source": [
    "del dict[1] \n",
    "dict"
   ]
  },
  {
   "cell_type": "markdown",
   "id": "724d957f",
   "metadata": {},
   "source": [
    "#### Function"
   ]
  },
  {
   "cell_type": "code",
   "execution_count": 90,
   "id": "ce6c0c1b",
   "metadata": {},
   "outputs": [],
   "source": [
    "class ATMmachine:\n",
    "    def cashwithdrawal(self):\n",
    "        print(\"welcome to ATM\")\n",
    "        pin =int(input(\"write your pin: \"))\n",
    "        print(\"successful\")\n",
    "        amount=int(input(\"pls enter your amount: \"))\n",
    "        print(\"pls collect your cash\")"
   ]
  },
  {
   "cell_type": "code",
   "execution_count": 91,
   "id": "e30af303",
   "metadata": {},
   "outputs": [],
   "source": [
    "atm1=ATMmachine()"
   ]
  },
  {
   "cell_type": "code",
   "execution_count": 93,
   "id": "72bf234a",
   "metadata": {},
   "outputs": [
    {
     "name": "stdout",
     "output_type": "stream",
     "text": [
      "welcome to ATM\n",
      "write your pin: 8793\n",
      "successful\n",
      "pls enter your amount: 5000\n",
      "pls collect your cash\n"
     ]
    }
   ],
   "source": [
    "atm1.cashwithdrawal()"
   ]
  },
  {
   "cell_type": "markdown",
   "id": "a3cdda9d",
   "metadata": {},
   "source": [
    "# Standard Libraries"
   ]
  },
  {
   "cell_type": "markdown",
   "id": "beef0f3d",
   "metadata": {},
   "source": [
    "#### 1. Math"
   ]
  },
  {
   "cell_type": "code",
   "execution_count": 94,
   "id": "96261b77",
   "metadata": {},
   "outputs": [],
   "source": [
    "import math #import library"
   ]
  },
  {
   "cell_type": "code",
   "execution_count": 95,
   "id": "e5e80e16",
   "metadata": {},
   "outputs": [
    {
     "data": {
      "text/plain": [
       "99"
      ]
     },
     "execution_count": 95,
     "metadata": {},
     "output_type": "execute_result"
    }
   ],
   "source": [
    "math.ceil(98.99) #smallest integer greater than or equal to x"
   ]
  },
  {
   "cell_type": "code",
   "execution_count": 96,
   "id": "861b533f",
   "metadata": {},
   "outputs": [
    {
     "data": {
      "text/plain": [
       "98"
      ]
     },
     "execution_count": 96,
     "metadata": {},
     "output_type": "execute_result"
    }
   ],
   "source": [
    "math.floor(98.999)  # the largest integer less than or equal to x"
   ]
  },
  {
   "cell_type": "code",
   "execution_count": 98,
   "id": "8a600991",
   "metadata": {},
   "outputs": [
    {
     "data": {
      "text/plain": [
       "10"
      ]
     },
     "execution_count": 98,
     "metadata": {},
     "output_type": "execute_result"
    }
   ],
   "source": [
    "math.comb(5,3)  # number of ways to choose k items from n items without repetition and without order"
   ]
  },
  {
   "cell_type": "code",
   "execution_count": 101,
   "id": "28c0398e",
   "metadata": {},
   "outputs": [
    {
     "data": {
      "text/plain": [
       "-5.2"
      ]
     },
     "execution_count": 101,
     "metadata": {},
     "output_type": "execute_result"
    }
   ],
   "source": [
    "math.copysign(5.2,-4.00) #Return a float with the magnitude (absolute value) of x but the sign of y."
   ]
  },
  {
   "cell_type": "code",
   "execution_count": 102,
   "id": "f899335e",
   "metadata": {},
   "outputs": [
    {
     "data": {
      "text/plain": [
       "89.55"
      ]
     },
     "execution_count": 102,
     "metadata": {},
     "output_type": "execute_result"
    }
   ],
   "source": [
    "math.fabs(-89.55)   #Return the absolute value of x."
   ]
  },
  {
   "cell_type": "code",
   "execution_count": 103,
   "id": "40332732",
   "metadata": {},
   "outputs": [
    {
     "data": {
      "text/plain": [
       "6"
      ]
     },
     "execution_count": 103,
     "metadata": {},
     "output_type": "execute_result"
    }
   ],
   "source": [
    "math.factorial(3)  #Return x factorial as an integer"
   ]
  },
  {
   "cell_type": "code",
   "execution_count": 107,
   "id": "50175162",
   "metadata": {},
   "outputs": [
    {
     "data": {
      "text/plain": [
       "14"
      ]
     },
     "execution_count": 107,
     "metadata": {},
     "output_type": "execute_result"
    }
   ],
   "source": [
    "math.gcd(42,28)      #gcd of two number"
   ]
  },
  {
   "cell_type": "markdown",
   "id": "27e4bd32",
   "metadata": {},
   "source": [
    "#### 2. Random"
   ]
  },
  {
   "cell_type": "code",
   "execution_count": 108,
   "id": "26da119d",
   "metadata": {},
   "outputs": [],
   "source": [
    "import random"
   ]
  },
  {
   "cell_type": "code",
   "execution_count": 110,
   "id": "1c25c1ec",
   "metadata": {},
   "outputs": [
    {
     "data": {
      "text/plain": [
       "'red'"
      ]
     },
     "execution_count": 110,
     "metadata": {},
     "output_type": "execute_result"
    }
   ],
   "source": [
    "random.choice(['harshal','red','Nashik'])     #select random element from"
   ]
  },
  {
   "cell_type": "code",
   "execution_count": 112,
   "id": "63361191",
   "metadata": {},
   "outputs": [
    {
     "data": {
      "text/plain": [
       "0.9103307860068721"
      ]
     },
     "execution_count": 112,
     "metadata": {},
     "output_type": "execute_result"
    }
   ],
   "source": [
    "random.random()     #from 0 to 1 "
   ]
  },
  {
   "cell_type": "code",
   "execution_count": 116,
   "id": "c43dc50c",
   "metadata": {},
   "outputs": [
    {
     "data": {
      "text/plain": [
       "4.941723203974007"
      ]
     },
     "execution_count": 116,
     "metadata": {},
     "output_type": "execute_result"
    }
   ],
   "source": [
    "random.uniform(4,5)   #Return a random floating point number N such that a <= N <= b for a <= b and b <= N <= a for b < a.\n",
    "\n",
    "#The end-point value b may or may not be included in the range depending on floating-point rounding in the equation a + (b-a) * random()."
   ]
  },
  {
   "cell_type": "code",
   "execution_count": 117,
   "id": "90d8bcb0",
   "metadata": {},
   "outputs": [
    {
     "data": {
      "text/plain": [
       "1.9990496077437623"
      ]
     },
     "execution_count": 117,
     "metadata": {},
     "output_type": "execute_result"
    }
   ],
   "source": [
    "random.uniform(0,9)"
   ]
  },
  {
   "cell_type": "markdown",
   "id": "17925c6c",
   "metadata": {},
   "source": [
    "#### 3.Date and time"
   ]
  },
  {
   "cell_type": "code",
   "execution_count": 7,
   "id": "010f44fd",
   "metadata": {},
   "outputs": [],
   "source": [
    "from datetime import date\n",
    "from datetime import time"
   ]
  },
  {
   "cell_type": "code",
   "execution_count": 8,
   "id": "5a4967a7",
   "metadata": {},
   "outputs": [
    {
     "data": {
      "text/plain": [
       "datetime.date(2000, 10, 29)"
      ]
     },
     "execution_count": 8,
     "metadata": {},
     "output_type": "execute_result"
    }
   ],
   "source": [
    "mydate = date(2000,10,29);mydate"
   ]
  },
  {
   "cell_type": "code",
   "execution_count": 9,
   "id": "5f24f225",
   "metadata": {},
   "outputs": [
    {
     "name": "stdout",
     "output_type": "stream",
     "text": [
      "2022-09-05\n"
     ]
    }
   ],
   "source": [
    "today=date.today()\n",
    "print(today)"
   ]
  },
  {
   "cell_type": "code",
   "execution_count": 12,
   "id": "57fe841d",
   "metadata": {},
   "outputs": [
    {
     "name": "stdout",
     "output_type": "stream",
     "text": [
      "Formatted date: 29 Oct 2000\n"
     ]
    }
   ],
   "source": [
    "#format date\n",
    "print(\"Formatted date:\",mydate.strftime(\"%d %b %Y\"))"
   ]
  },
  {
   "cell_type": "code",
   "execution_count": 10,
   "id": "04282730",
   "metadata": {},
   "outputs": [
    {
     "name": "stdout",
     "output_type": "stream",
     "text": [
      "Formatted date: 10-29-00\n"
     ]
    }
   ],
   "source": [
    "#format date\n",
    "print(\"Formatted date:\",mydate.strftime(\"%m-%d-%y\"))"
   ]
  },
  {
   "cell_type": "code",
   "execution_count": 14,
   "id": "3e4cfe13",
   "metadata": {},
   "outputs": [
    {
     "name": "stdout",
     "output_type": "stream",
     "text": [
      "Formatted date: Monday on the 05 day of September\n"
     ]
    }
   ],
   "source": [
    "#format date\n",
    "print(\"Formatted date:\",today.strftime(\"%A on the %d day of %B\"))"
   ]
  },
  {
   "cell_type": "code",
   "execution_count": 17,
   "id": "ba45fa02",
   "metadata": {},
   "outputs": [
    {
     "name": "stdout",
     "output_type": "stream",
     "text": [
      "Age in days 7981\n"
     ]
    }
   ],
   "source": [
    "#dates support calendar arithmetic\n",
    "birthday=mydate\n",
    "age=today-birthday\n",
    "print(\"Age in days\",age.days)"
   ]
  },
  {
   "cell_type": "markdown",
   "id": "a524b6b2",
   "metadata": {},
   "source": [
    "#### 4. NUMPY"
   ]
  },
  {
   "cell_type": "code",
   "execution_count": 18,
   "id": "4ac66981",
   "metadata": {},
   "outputs": [],
   "source": [
    "import numpy as np"
   ]
  },
  {
   "cell_type": "code",
   "execution_count": 19,
   "id": "103b8881",
   "metadata": {},
   "outputs": [
    {
     "data": {
      "text/plain": [
       "'1.20.1'"
      ]
     },
     "execution_count": 19,
     "metadata": {},
     "output_type": "execute_result"
    }
   ],
   "source": [
    "np.__version__   #check version"
   ]
  },
  {
   "cell_type": "code",
   "execution_count": 33,
   "id": "9f396b71",
   "metadata": {},
   "outputs": [
    {
     "data": {
      "text/plain": [
       "array([5, 4, 3, 2, 1])"
      ]
     },
     "execution_count": 33,
     "metadata": {},
     "output_type": "execute_result"
    }
   ],
   "source": [
    "a=np.array([5,4,3,2,1])\n",
    "a"
   ]
  },
  {
   "cell_type": "code",
   "execution_count": 29,
   "id": "9bfd4f3e",
   "metadata": {},
   "outputs": [
    {
     "data": {
      "text/plain": [
       "array(['5', '8', '9', '6', 'True'], dtype='<U11')"
      ]
     },
     "execution_count": 29,
     "metadata": {},
     "output_type": "execute_result"
    }
   ],
   "source": [
    "(np.array([5,8,9,6,'True']))\n"
   ]
  },
  {
   "cell_type": "code",
   "execution_count": 23,
   "id": "aa4ea6e3",
   "metadata": {},
   "outputs": [
    {
     "data": {
      "text/plain": [
       "numpy.ndarray"
      ]
     },
     "execution_count": 23,
     "metadata": {},
     "output_type": "execute_result"
    }
   ],
   "source": [
    "type(np.array([5,8,9,6,'True']))"
   ]
  },
  {
   "cell_type": "code",
   "execution_count": 25,
   "id": "e5d271d4",
   "metadata": {},
   "outputs": [],
   "source": [
    "xyz=[1,2,3,4,5]"
   ]
  },
  {
   "cell_type": "code",
   "execution_count": 26,
   "id": "415e4185",
   "metadata": {},
   "outputs": [
    {
     "data": {
      "text/plain": [
       "[1, 2, 3, 4, 5, 1, 2, 3, 4, 5]"
      ]
     },
     "execution_count": 26,
     "metadata": {},
     "output_type": "execute_result"
    }
   ],
   "source": [
    "xyz*2"
   ]
  },
  {
   "cell_type": "code",
   "execution_count": 34,
   "id": "b27570a9",
   "metadata": {},
   "outputs": [
    {
     "data": {
      "text/plain": [
       "array([7, 6, 5, 4, 3])"
      ]
     },
     "execution_count": 34,
     "metadata": {},
     "output_type": "execute_result"
    }
   ],
   "source": [
    "a+2"
   ]
  },
  {
   "cell_type": "code",
   "execution_count": 37,
   "id": "f0786223",
   "metadata": {},
   "outputs": [
    {
     "data": {
      "text/plain": [
       "[[7, 8, 9, 5], [4, 5, 6, 8], [5, 6, 8, 2], [6, 5, 2, 3]]"
      ]
     },
     "execution_count": 37,
     "metadata": {},
     "output_type": "execute_result"
    }
   ],
   "source": [
    "# Matrix using numpy\n",
    "matrix=[[7,8,9,5],\n",
    "       [4,5,6,8],\n",
    "       [5,6,8,2],\n",
    "       [6,5,2,3]]\n",
    "matrix"
   ]
  },
  {
   "cell_type": "code",
   "execution_count": 39,
   "id": "5ef6635f",
   "metadata": {},
   "outputs": [
    {
     "data": {
      "text/plain": [
       "array([[7, 8, 9, 5],\n",
       "       [4, 5, 6, 8],\n",
       "       [5, 6, 8, 2],\n",
       "       [6, 5, 2, 3]])"
      ]
     },
     "execution_count": 39,
     "metadata": {},
     "output_type": "execute_result"
    }
   ],
   "source": [
    "matrix=np.array(matrix)\n",
    "matrix"
   ]
  },
  {
   "cell_type": "code",
   "execution_count": 40,
   "id": "f4f774fe",
   "metadata": {},
   "outputs": [
    {
     "data": {
      "text/plain": [
       "3"
      ]
     },
     "execution_count": 40,
     "metadata": {},
     "output_type": "execute_result"
    }
   ],
   "source": [
    "#extraction of element\n",
    "matrix[3][3]"
   ]
  },
  {
   "cell_type": "code",
   "execution_count": 43,
   "id": "94ee2be3",
   "metadata": {},
   "outputs": [],
   "source": [
    "#create matrix of random element\n",
    "a=np.random.randint(0,10,(3,3))\n",
    "b=np.random.randint(0,10,(3,3))\n"
   ]
  },
  {
   "cell_type": "code",
   "execution_count": 44,
   "id": "6d55ce70",
   "metadata": {},
   "outputs": [
    {
     "data": {
      "text/plain": [
       "array([[0, 4, 2],\n",
       "       [7, 4, 1],\n",
       "       [3, 6, 3]])"
      ]
     },
     "execution_count": 44,
     "metadata": {},
     "output_type": "execute_result"
    }
   ],
   "source": [
    "a"
   ]
  },
  {
   "cell_type": "code",
   "execution_count": 45,
   "id": "c79a1408",
   "metadata": {},
   "outputs": [
    {
     "data": {
      "text/plain": [
       "array([[8, 8, 1],\n",
       "       [3, 8, 6],\n",
       "       [3, 0, 9]])"
      ]
     },
     "execution_count": 45,
     "metadata": {},
     "output_type": "execute_result"
    }
   ],
   "source": [
    "b"
   ]
  },
  {
   "cell_type": "code",
   "execution_count": 46,
   "id": "49763bfe",
   "metadata": {},
   "outputs": [
    {
     "data": {
      "text/plain": [
       "array([[ 8, 12,  3],\n",
       "       [10, 12,  7],\n",
       "       [ 6,  6, 12]])"
      ]
     },
     "execution_count": 46,
     "metadata": {},
     "output_type": "execute_result"
    }
   ],
   "source": [
    "a+b"
   ]
  },
  {
   "cell_type": "code",
   "execution_count": 47,
   "id": "1a640784",
   "metadata": {},
   "outputs": [
    {
     "data": {
      "text/plain": [
       "array([[-8, -4,  1],\n",
       "       [ 4, -4, -5],\n",
       "       [ 0,  6, -6]])"
      ]
     },
     "execution_count": 47,
     "metadata": {},
     "output_type": "execute_result"
    }
   ],
   "source": [
    "a-b"
   ]
  },
  {
   "cell_type": "code",
   "execution_count": 48,
   "id": "4779c253",
   "metadata": {},
   "outputs": [
    {
     "data": {
      "text/plain": [
       "array([[ 0, 32,  2],\n",
       "       [21, 32,  6],\n",
       "       [ 9,  0, 27]])"
      ]
     },
     "execution_count": 48,
     "metadata": {},
     "output_type": "execute_result"
    }
   ],
   "source": [
    "a*b"
   ]
  },
  {
   "cell_type": "code",
   "execution_count": 49,
   "id": "5cbec634",
   "metadata": {},
   "outputs": [
    {
     "data": {
      "text/plain": [
       "array([[1, 5, 3],\n",
       "       [8, 5, 2],\n",
       "       [4, 7, 4]])"
      ]
     },
     "execution_count": 49,
     "metadata": {},
     "output_type": "execute_result"
    }
   ],
   "source": [
    "a+1"
   ]
  },
  {
   "cell_type": "code",
   "execution_count": 50,
   "id": "0bce2ca6",
   "metadata": {},
   "outputs": [
    {
     "data": {
      "text/plain": [
       "array([[13, 13,  6],\n",
       "       [ 8, 13, 11],\n",
       "       [ 8,  5, 14]])"
      ]
     },
     "execution_count": 50,
     "metadata": {},
     "output_type": "execute_result"
    }
   ],
   "source": [
    "b+5"
   ]
  },
  {
   "cell_type": "code",
   "execution_count": 51,
   "id": "2d7e567e",
   "metadata": {},
   "outputs": [
    {
     "data": {
      "text/plain": [
       "array([[ 1, 33,  3],\n",
       "       [22, 33,  7],\n",
       "       [10,  1, 28]])"
      ]
     },
     "execution_count": 51,
     "metadata": {},
     "output_type": "execute_result"
    }
   ],
   "source": [
    "(a*b)+1"
   ]
  },
  {
   "cell_type": "code",
   "execution_count": 52,
   "id": "cc100432",
   "metadata": {},
   "outputs": [
    {
     "data": {
      "text/plain": [
       "array([[5, 2, 7],\n",
       "       [1, 0, 8],\n",
       "       [7, 1, 9]])"
      ]
     },
     "execution_count": 52,
     "metadata": {},
     "output_type": "execute_result"
    }
   ],
   "source": [
    "#using random seed\n",
    "np.random.seed(54)\n",
    "np.random.randint(0,10,(3,3))"
   ]
  },
  {
   "cell_type": "code",
   "execution_count": 56,
   "id": "c4c1dc80",
   "metadata": {},
   "outputs": [
    {
     "data": {
      "text/plain": [
       "array([[0, 0, 0],\n",
       "       [0, 0, 0],\n",
       "       [0, 0, 0]])"
      ]
     },
     "execution_count": 56,
     "metadata": {},
     "output_type": "execute_result"
    }
   ],
   "source": [
    "#matrix of zeroes (3*3)\n",
    "np.zeros((3,3),int)"
   ]
  },
  {
   "cell_type": "code",
   "execution_count": 57,
   "id": "21c155b8",
   "metadata": {},
   "outputs": [
    {
     "data": {
      "text/plain": [
       "array([[1, 1, 1],\n",
       "       [1, 1, 1],\n",
       "       [1, 1, 1]])"
      ]
     },
     "execution_count": 57,
     "metadata": {},
     "output_type": "execute_result"
    }
   ],
   "source": [
    "#matrix of ones\n",
    "np.ones((3,3),int)"
   ]
  },
  {
   "cell_type": "code",
   "execution_count": 58,
   "id": "2d5c4fb1",
   "metadata": {},
   "outputs": [
    {
     "data": {
      "text/plain": [
       "array([[1., 1., 1., 1., 1., 1., 1., 1., 1., 1.],\n",
       "       [1., 1., 1., 1., 1., 1., 1., 1., 1., 1.],\n",
       "       [1., 1., 1., 1., 1., 1., 1., 1., 1., 1.],\n",
       "       [1., 1., 1., 1., 1., 1., 1., 1., 1., 1.],\n",
       "       [1., 1., 1., 1., 1., 1., 1., 1., 1., 1.]])"
      ]
     },
     "execution_count": 58,
     "metadata": {},
     "output_type": "execute_result"
    }
   ],
   "source": [
    "np.ones((5,10),float)"
   ]
  },
  {
   "cell_type": "code",
   "execution_count": 60,
   "id": "5866a13e",
   "metadata": {},
   "outputs": [
    {
     "data": {
      "text/plain": [
       "array([[1, 0, 0, 0],\n",
       "       [0, 1, 0, 0],\n",
       "       [0, 0, 1, 0],\n",
       "       [0, 0, 0, 1]])"
      ]
     },
     "execution_count": 60,
     "metadata": {},
     "output_type": "execute_result"
    }
   ],
   "source": [
    "#identity matrix\n",
    "np.identity(4,int)"
   ]
  },
  {
   "cell_type": "code",
   "execution_count": 62,
   "id": "ef90f95e",
   "metadata": {},
   "outputs": [
    {
     "data": {
      "text/plain": [
       "array([[87, 87, 87],\n",
       "       [87, 87, 87],\n",
       "       [87, 87, 87]])"
      ]
     },
     "execution_count": 62,
     "metadata": {},
     "output_type": "execute_result"
    }
   ],
   "source": [
    "np.full((3,3),87)"
   ]
  },
  {
   "cell_type": "code",
   "execution_count": 65,
   "id": "b01acbe3",
   "metadata": {},
   "outputs": [
    {
     "data": {
      "text/plain": [
       "array([[0, 4, 2],\n",
       "       [7, 4, 1],\n",
       "       [3, 6, 3]])"
      ]
     },
     "execution_count": 65,
     "metadata": {},
     "output_type": "execute_result"
    }
   ],
   "source": [
    "#Concatenation\n",
    "a"
   ]
  },
  {
   "cell_type": "code",
   "execution_count": 64,
   "id": "b2d39ae0",
   "metadata": {},
   "outputs": [
    {
     "data": {
      "text/plain": [
       "array([[8, 8, 1],\n",
       "       [3, 8, 6],\n",
       "       [3, 0, 9]])"
      ]
     },
     "execution_count": 64,
     "metadata": {},
     "output_type": "execute_result"
    }
   ],
   "source": [
    "b"
   ]
  },
  {
   "cell_type": "code",
   "execution_count": 68,
   "id": "6677c652",
   "metadata": {},
   "outputs": [
    {
     "data": {
      "text/plain": [
       "array([[0, 4, 2],\n",
       "       [7, 4, 1],\n",
       "       [3, 6, 3],\n",
       "       [8, 8, 1],\n",
       "       [3, 8, 6],\n",
       "       [3, 0, 9]])"
      ]
     },
     "execution_count": 68,
     "metadata": {},
     "output_type": "execute_result"
    }
   ],
   "source": [
    "matrix_concate = np.concatenate([a,b],axis=0) #row wise\n",
    "matrix_concat"
   ]
  },
  {
   "cell_type": "code",
   "execution_count": 70,
   "id": "b2d5f8fa",
   "metadata": {},
   "outputs": [
    {
     "data": {
      "text/plain": [
       "array([[0, 4, 2, 8, 8, 1],\n",
       "       [7, 4, 1, 3, 8, 6],\n",
       "       [3, 6, 3, 3, 0, 9]])"
      ]
     },
     "execution_count": 70,
     "metadata": {},
     "output_type": "execute_result"
    }
   ],
   "source": [
    "matrix_concate = np.concatenate([a,b],axis=1) #column wise\n",
    "matrix_concate"
   ]
  },
  {
   "cell_type": "markdown",
   "id": "b5192009",
   "metadata": {},
   "source": [
    "#### 5.Pandas"
   ]
  },
  {
   "cell_type": "code",
   "execution_count": 71,
   "id": "bfb6f091",
   "metadata": {},
   "outputs": [],
   "source": [
    "import pandas as pd"
   ]
  },
  {
   "cell_type": "code",
   "execution_count": 73,
   "id": "bb37c27b",
   "metadata": {},
   "outputs": [
    {
     "data": {
      "text/html": [
       "<div>\n",
       "<style scoped>\n",
       "    .dataframe tbody tr th:only-of-type {\n",
       "        vertical-align: middle;\n",
       "    }\n",
       "\n",
       "    .dataframe tbody tr th {\n",
       "        vertical-align: top;\n",
       "    }\n",
       "\n",
       "    .dataframe thead th {\n",
       "        text-align: right;\n",
       "    }\n",
       "</style>\n",
       "<table border=\"1\" class=\"dataframe\">\n",
       "  <thead>\n",
       "    <tr style=\"text-align: right;\">\n",
       "      <th></th>\n",
       "      <th>Unnamed: 0</th>\n",
       "      <th>biking</th>\n",
       "      <th>smoking</th>\n",
       "      <th>heart.disease</th>\n",
       "    </tr>\n",
       "  </thead>\n",
       "  <tbody>\n",
       "    <tr>\n",
       "      <th>0</th>\n",
       "      <td>1</td>\n",
       "      <td>30.801246</td>\n",
       "      <td>10.896608</td>\n",
       "      <td>11.769423</td>\n",
       "    </tr>\n",
       "    <tr>\n",
       "      <th>1</th>\n",
       "      <td>2</td>\n",
       "      <td>65.129215</td>\n",
       "      <td>2.219563</td>\n",
       "      <td>2.854081</td>\n",
       "    </tr>\n",
       "    <tr>\n",
       "      <th>2</th>\n",
       "      <td>3</td>\n",
       "      <td>1.959665</td>\n",
       "      <td>17.588331</td>\n",
       "      <td>17.177803</td>\n",
       "    </tr>\n",
       "    <tr>\n",
       "      <th>3</th>\n",
       "      <td>4</td>\n",
       "      <td>44.800196</td>\n",
       "      <td>2.802559</td>\n",
       "      <td>6.816647</td>\n",
       "    </tr>\n",
       "    <tr>\n",
       "      <th>4</th>\n",
       "      <td>5</td>\n",
       "      <td>69.428454</td>\n",
       "      <td>15.974505</td>\n",
       "      <td>4.062224</td>\n",
       "    </tr>\n",
       "    <tr>\n",
       "      <th>...</th>\n",
       "      <td>...</td>\n",
       "      <td>...</td>\n",
       "      <td>...</td>\n",
       "      <td>...</td>\n",
       "    </tr>\n",
       "    <tr>\n",
       "      <th>493</th>\n",
       "      <td>494</td>\n",
       "      <td>47.660440</td>\n",
       "      <td>27.562464</td>\n",
       "      <td>11.294392</td>\n",
       "    </tr>\n",
       "    <tr>\n",
       "      <th>494</th>\n",
       "      <td>495</td>\n",
       "      <td>45.097203</td>\n",
       "      <td>21.385620</td>\n",
       "      <td>9.616762</td>\n",
       "    </tr>\n",
       "    <tr>\n",
       "      <th>495</th>\n",
       "      <td>496</td>\n",
       "      <td>8.279743</td>\n",
       "      <td>6.423720</td>\n",
       "      <td>13.495168</td>\n",
       "    </tr>\n",
       "    <tr>\n",
       "      <th>496</th>\n",
       "      <td>497</td>\n",
       "      <td>42.345863</td>\n",
       "      <td>20.741328</td>\n",
       "      <td>10.115865</td>\n",
       "    </tr>\n",
       "    <tr>\n",
       "      <th>497</th>\n",
       "      <td>498</td>\n",
       "      <td>30.774254</td>\n",
       "      <td>23.610175</td>\n",
       "      <td>11.843556</td>\n",
       "    </tr>\n",
       "  </tbody>\n",
       "</table>\n",
       "<p>498 rows × 4 columns</p>\n",
       "</div>"
      ],
      "text/plain": [
       "     Unnamed: 0     biking    smoking  heart.disease\n",
       "0             1  30.801246  10.896608      11.769423\n",
       "1             2  65.129215   2.219563       2.854081\n",
       "2             3   1.959665  17.588331      17.177803\n",
       "3             4  44.800196   2.802559       6.816647\n",
       "4             5  69.428454  15.974505       4.062224\n",
       "..          ...        ...        ...            ...\n",
       "493         494  47.660440  27.562464      11.294392\n",
       "494         495  45.097203  21.385620       9.616762\n",
       "495         496   8.279743   6.423720      13.495168\n",
       "496         497  42.345863  20.741328      10.115865\n",
       "497         498  30.774254  23.610175      11.843556\n",
       "\n",
       "[498 rows x 4 columns]"
      ]
     },
     "execution_count": 73,
     "metadata": {},
     "output_type": "execute_result"
    }
   ],
   "source": [
    "data=pd.read_csv(r\"C:\\Users\\LENOVO\\Downloads\\heart.data.csv\")\n",
    "data"
   ]
  },
  {
   "cell_type": "code",
   "execution_count": 74,
   "id": "5d12bc49",
   "metadata": {},
   "outputs": [
    {
     "data": {
      "text/plain": [
       "<bound method DataFrame.info of      Unnamed: 0     biking    smoking  heart.disease\n",
       "0             1  30.801246  10.896608      11.769423\n",
       "1             2  65.129215   2.219563       2.854081\n",
       "2             3   1.959665  17.588331      17.177803\n",
       "3             4  44.800196   2.802559       6.816647\n",
       "4             5  69.428454  15.974505       4.062224\n",
       "..          ...        ...        ...            ...\n",
       "493         494  47.660440  27.562464      11.294392\n",
       "494         495  45.097203  21.385620       9.616762\n",
       "495         496   8.279743   6.423720      13.495168\n",
       "496         497  42.345863  20.741328      10.115865\n",
       "497         498  30.774254  23.610175      11.843556\n",
       "\n",
       "[498 rows x 4 columns]>"
      ]
     },
     "execution_count": 74,
     "metadata": {},
     "output_type": "execute_result"
    }
   ],
   "source": [
    "data.info"
   ]
  },
  {
   "cell_type": "code",
   "execution_count": 75,
   "id": "8573f7ee",
   "metadata": {},
   "outputs": [
    {
     "data": {
      "text/plain": [
       "(498, 4)"
      ]
     },
     "execution_count": 75,
     "metadata": {},
     "output_type": "execute_result"
    }
   ],
   "source": [
    "data.shape"
   ]
  },
  {
   "cell_type": "code",
   "execution_count": 76,
   "id": "d3a70830",
   "metadata": {},
   "outputs": [
    {
     "data": {
      "text/plain": [
       "Unnamed: 0         int64\n",
       "biking           float64\n",
       "smoking          float64\n",
       "heart.disease    float64\n",
       "dtype: object"
      ]
     },
     "execution_count": 76,
     "metadata": {},
     "output_type": "execute_result"
    }
   ],
   "source": [
    "data.dtypes"
   ]
  },
  {
   "cell_type": "code",
   "execution_count": 77,
   "id": "64c5ebb6",
   "metadata": {},
   "outputs": [
    {
     "data": {
      "text/plain": [
       "Index(['Unnamed: 0', 'biking', 'smoking', 'heart.disease'], dtype='object')"
      ]
     },
     "execution_count": 77,
     "metadata": {},
     "output_type": "execute_result"
    }
   ],
   "source": [
    "data.columns"
   ]
  },
  {
   "cell_type": "code",
   "execution_count": 79,
   "id": "15c01d98",
   "metadata": {},
   "outputs": [
    {
     "data": {
      "text/plain": [
       "Unnamed: 0       0\n",
       "biking           0\n",
       "smoking          0\n",
       "heart.disease    0\n",
       "dtype: int64"
      ]
     },
     "execution_count": 79,
     "metadata": {},
     "output_type": "execute_result"
    }
   ],
   "source": [
    "data.isna().sum()   #check null values"
   ]
  },
  {
   "cell_type": "code",
   "execution_count": 80,
   "id": "79b4e697",
   "metadata": {},
   "outputs": [
    {
     "data": {
      "text/html": [
       "<div>\n",
       "<style scoped>\n",
       "    .dataframe tbody tr th:only-of-type {\n",
       "        vertical-align: middle;\n",
       "    }\n",
       "\n",
       "    .dataframe tbody tr th {\n",
       "        vertical-align: top;\n",
       "    }\n",
       "\n",
       "    .dataframe thead th {\n",
       "        text-align: right;\n",
       "    }\n",
       "</style>\n",
       "<table border=\"1\" class=\"dataframe\">\n",
       "  <thead>\n",
       "    <tr style=\"text-align: right;\">\n",
       "      <th></th>\n",
       "      <th>Unnamed: 0</th>\n",
       "      <th>biking</th>\n",
       "      <th>smoking</th>\n",
       "      <th>heart.disease</th>\n",
       "    </tr>\n",
       "  </thead>\n",
       "  <tbody>\n",
       "    <tr>\n",
       "      <th>0</th>\n",
       "      <td>1</td>\n",
       "      <td>30.801246</td>\n",
       "      <td>10.896608</td>\n",
       "      <td>11.769423</td>\n",
       "    </tr>\n",
       "    <tr>\n",
       "      <th>1</th>\n",
       "      <td>2</td>\n",
       "      <td>65.129215</td>\n",
       "      <td>2.219563</td>\n",
       "      <td>2.854081</td>\n",
       "    </tr>\n",
       "    <tr>\n",
       "      <th>2</th>\n",
       "      <td>3</td>\n",
       "      <td>1.959665</td>\n",
       "      <td>17.588331</td>\n",
       "      <td>17.177803</td>\n",
       "    </tr>\n",
       "    <tr>\n",
       "      <th>3</th>\n",
       "      <td>4</td>\n",
       "      <td>44.800196</td>\n",
       "      <td>2.802559</td>\n",
       "      <td>6.816647</td>\n",
       "    </tr>\n",
       "  </tbody>\n",
       "</table>\n",
       "</div>"
      ],
      "text/plain": [
       "   Unnamed: 0     biking    smoking  heart.disease\n",
       "0           1  30.801246  10.896608      11.769423\n",
       "1           2  65.129215   2.219563       2.854081\n",
       "2           3   1.959665  17.588331      17.177803\n",
       "3           4  44.800196   2.802559       6.816647"
      ]
     },
     "execution_count": 80,
     "metadata": {},
     "output_type": "execute_result"
    }
   ],
   "source": [
    "data.head(4)"
   ]
  },
  {
   "cell_type": "code",
   "execution_count": 81,
   "id": "52b5f559",
   "metadata": {},
   "outputs": [
    {
     "data": {
      "text/html": [
       "<div>\n",
       "<style scoped>\n",
       "    .dataframe tbody tr th:only-of-type {\n",
       "        vertical-align: middle;\n",
       "    }\n",
       "\n",
       "    .dataframe tbody tr th {\n",
       "        vertical-align: top;\n",
       "    }\n",
       "\n",
       "    .dataframe thead th {\n",
       "        text-align: right;\n",
       "    }\n",
       "</style>\n",
       "<table border=\"1\" class=\"dataframe\">\n",
       "  <thead>\n",
       "    <tr style=\"text-align: right;\">\n",
       "      <th></th>\n",
       "      <th>Unnamed: 0</th>\n",
       "      <th>biking</th>\n",
       "      <th>smoking</th>\n",
       "      <th>heart.disease</th>\n",
       "    </tr>\n",
       "  </thead>\n",
       "  <tbody>\n",
       "    <tr>\n",
       "      <th>494</th>\n",
       "      <td>495</td>\n",
       "      <td>45.097203</td>\n",
       "      <td>21.385620</td>\n",
       "      <td>9.616762</td>\n",
       "    </tr>\n",
       "    <tr>\n",
       "      <th>495</th>\n",
       "      <td>496</td>\n",
       "      <td>8.279743</td>\n",
       "      <td>6.423720</td>\n",
       "      <td>13.495168</td>\n",
       "    </tr>\n",
       "    <tr>\n",
       "      <th>496</th>\n",
       "      <td>497</td>\n",
       "      <td>42.345863</td>\n",
       "      <td>20.741328</td>\n",
       "      <td>10.115865</td>\n",
       "    </tr>\n",
       "    <tr>\n",
       "      <th>497</th>\n",
       "      <td>498</td>\n",
       "      <td>30.774254</td>\n",
       "      <td>23.610175</td>\n",
       "      <td>11.843556</td>\n",
       "    </tr>\n",
       "  </tbody>\n",
       "</table>\n",
       "</div>"
      ],
      "text/plain": [
       "     Unnamed: 0     biking    smoking  heart.disease\n",
       "494         495  45.097203  21.385620       9.616762\n",
       "495         496   8.279743   6.423720      13.495168\n",
       "496         497  42.345863  20.741328      10.115865\n",
       "497         498  30.774254  23.610175      11.843556"
      ]
     },
     "execution_count": 81,
     "metadata": {},
     "output_type": "execute_result"
    }
   ],
   "source": [
    "data.tail(4)"
   ]
  },
  {
   "cell_type": "code",
   "execution_count": 82,
   "id": "da5bbf6e",
   "metadata": {},
   "outputs": [
    {
     "data": {
      "text/html": [
       "<div>\n",
       "<style scoped>\n",
       "    .dataframe tbody tr th:only-of-type {\n",
       "        vertical-align: middle;\n",
       "    }\n",
       "\n",
       "    .dataframe tbody tr th {\n",
       "        vertical-align: top;\n",
       "    }\n",
       "\n",
       "    .dataframe thead th {\n",
       "        text-align: right;\n",
       "    }\n",
       "</style>\n",
       "<table border=\"1\" class=\"dataframe\">\n",
       "  <thead>\n",
       "    <tr style=\"text-align: right;\">\n",
       "      <th></th>\n",
       "      <th>Unnamed: 0</th>\n",
       "      <th>biking</th>\n",
       "      <th>smoking</th>\n",
       "      <th>heart.disease</th>\n",
       "    </tr>\n",
       "  </thead>\n",
       "  <tbody>\n",
       "    <tr>\n",
       "      <th>count</th>\n",
       "      <td>498.000000</td>\n",
       "      <td>498.000000</td>\n",
       "      <td>498.000000</td>\n",
       "      <td>498.000000</td>\n",
       "    </tr>\n",
       "    <tr>\n",
       "      <th>mean</th>\n",
       "      <td>249.500000</td>\n",
       "      <td>37.788411</td>\n",
       "      <td>15.435034</td>\n",
       "      <td>10.174538</td>\n",
       "    </tr>\n",
       "    <tr>\n",
       "      <th>std</th>\n",
       "      <td>143.904482</td>\n",
       "      <td>21.481519</td>\n",
       "      <td>8.289959</td>\n",
       "      <td>4.571874</td>\n",
       "    </tr>\n",
       "    <tr>\n",
       "      <th>min</th>\n",
       "      <td>1.000000</td>\n",
       "      <td>1.119154</td>\n",
       "      <td>0.525850</td>\n",
       "      <td>0.551898</td>\n",
       "    </tr>\n",
       "    <tr>\n",
       "      <th>25%</th>\n",
       "      <td>125.250000</td>\n",
       "      <td>20.204598</td>\n",
       "      <td>8.279776</td>\n",
       "      <td>6.513683</td>\n",
       "    </tr>\n",
       "    <tr>\n",
       "      <th>50%</th>\n",
       "      <td>249.500000</td>\n",
       "      <td>35.824459</td>\n",
       "      <td>15.814614</td>\n",
       "      <td>10.385255</td>\n",
       "    </tr>\n",
       "    <tr>\n",
       "      <th>75%</th>\n",
       "      <td>373.750000</td>\n",
       "      <td>57.852786</td>\n",
       "      <td>22.568925</td>\n",
       "      <td>13.724024</td>\n",
       "    </tr>\n",
       "    <tr>\n",
       "      <th>max</th>\n",
       "      <td>498.000000</td>\n",
       "      <td>74.907111</td>\n",
       "      <td>29.946743</td>\n",
       "      <td>20.453496</td>\n",
       "    </tr>\n",
       "  </tbody>\n",
       "</table>\n",
       "</div>"
      ],
      "text/plain": [
       "       Unnamed: 0      biking     smoking  heart.disease\n",
       "count  498.000000  498.000000  498.000000     498.000000\n",
       "mean   249.500000   37.788411   15.435034      10.174538\n",
       "std    143.904482   21.481519    8.289959       4.571874\n",
       "min      1.000000    1.119154    0.525850       0.551898\n",
       "25%    125.250000   20.204598    8.279776       6.513683\n",
       "50%    249.500000   35.824459   15.814614      10.385255\n",
       "75%    373.750000   57.852786   22.568925      13.724024\n",
       "max    498.000000   74.907111   29.946743      20.453496"
      ]
     },
     "execution_count": 82,
     "metadata": {},
     "output_type": "execute_result"
    }
   ],
   "source": [
    "data.describe()"
   ]
  },
  {
   "cell_type": "code",
   "execution_count": 85,
   "id": "a26c0084",
   "metadata": {},
   "outputs": [
    {
     "name": "stdout",
     "output_type": "stream",
     "text": [
      "Unnamed: 0       496.000000\n",
      "biking             8.279743\n",
      "smoking            6.423720\n",
      "heart.disease     13.495168\n",
      "Name: 495, dtype: float64\n"
     ]
    }
   ],
   "source": [
    "print(data.loc[495])"
   ]
  },
  {
   "cell_type": "code",
   "execution_count": 94,
   "id": "5814e512",
   "metadata": {},
   "outputs": [
    {
     "data": {
      "text/html": [
       "<div>\n",
       "<style scoped>\n",
       "    .dataframe tbody tr th:only-of-type {\n",
       "        vertical-align: middle;\n",
       "    }\n",
       "\n",
       "    .dataframe tbody tr th {\n",
       "        vertical-align: top;\n",
       "    }\n",
       "\n",
       "    .dataframe thead th {\n",
       "        text-align: right;\n",
       "    }\n",
       "</style>\n",
       "<table border=\"1\" class=\"dataframe\">\n",
       "  <thead>\n",
       "    <tr style=\"text-align: right;\">\n",
       "      <th></th>\n",
       "      <th>Unnamed: 0</th>\n",
       "      <th>biking</th>\n",
       "      <th>smoking</th>\n",
       "      <th>heart.disease</th>\n",
       "    </tr>\n",
       "  </thead>\n",
       "  <tbody>\n",
       "    <tr>\n",
       "      <th>Unnamed: 0</th>\n",
       "      <td>1.000000</td>\n",
       "      <td>0.057088</td>\n",
       "      <td>0.052674</td>\n",
       "      <td>-0.051725</td>\n",
       "    </tr>\n",
       "    <tr>\n",
       "      <th>biking</th>\n",
       "      <td>0.057088</td>\n",
       "      <td>1.000000</td>\n",
       "      <td>0.015136</td>\n",
       "      <td>-0.935455</td>\n",
       "    </tr>\n",
       "    <tr>\n",
       "      <th>smoking</th>\n",
       "      <td>0.052674</td>\n",
       "      <td>0.015136</td>\n",
       "      <td>1.000000</td>\n",
       "      <td>0.309131</td>\n",
       "    </tr>\n",
       "    <tr>\n",
       "      <th>heart.disease</th>\n",
       "      <td>-0.051725</td>\n",
       "      <td>-0.935455</td>\n",
       "      <td>0.309131</td>\n",
       "      <td>1.000000</td>\n",
       "    </tr>\n",
       "  </tbody>\n",
       "</table>\n",
       "</div>"
      ],
      "text/plain": [
       "               Unnamed: 0    biking   smoking  heart.disease\n",
       "Unnamed: 0       1.000000  0.057088  0.052674      -0.051725\n",
       "biking           0.057088  1.000000  0.015136      -0.935455\n",
       "smoking          0.052674  0.015136  1.000000       0.309131\n",
       "heart.disease   -0.051725 -0.935455  0.309131       1.000000"
      ]
     },
     "execution_count": 94,
     "metadata": {},
     "output_type": "execute_result"
    }
   ],
   "source": [
    "data.corr()"
   ]
  },
  {
   "cell_type": "markdown",
   "id": "1aa440db",
   "metadata": {},
   "source": [
    "#### 6.matplotlib"
   ]
  },
  {
   "cell_type": "code",
   "execution_count": 91,
   "id": "3e779cb2",
   "metadata": {},
   "outputs": [],
   "source": [
    "import matplotlib.pyplot as plt"
   ]
  },
  {
   "cell_type": "code",
   "execution_count": 98,
   "id": "a957fc3b",
   "metadata": {},
   "outputs": [
    {
     "data": {
      "text/plain": [
       "[<matplotlib.lines.Line2D at 0x1fc157a9dc0>]"
      ]
     },
     "execution_count": 98,
     "metadata": {},
     "output_type": "execute_result"
    },
    {
     "data": {
      "image/png": "[encoded data removed]",
      "text/plain": [
       "<Figure size 432x288 with 1 Axes>"
      ]
     },
     "metadata": {
      "needs_background": "light"
     },
     "output_type": "display_data"
    }
   ],
   "source": [
    "plt.title(\"smoking vs heart disease\")\n",
    "plt.plot(\"smoking\",\"heart.disease\",data=data)"
   ]
  },
  {
   "cell_type": "code",
   "execution_count": 99,
   "id": "b2369887",
   "metadata": {},
   "outputs": [
    {
     "data": {
      "text/plain": [
       "[<matplotlib.lines.Line2D at 0x1fc167cb550>]"
      ]
     },
     "execution_count": 99,
     "metadata": {},
     "output_type": "execute_result"
    },
    {
     "data": {
      "image/png": "[encoded data removed]",
      "text/plain": [
       "<Figure size 432x288 with 1 Axes>"
      ]
     },
     "metadata": {
      "needs_background": "light"
     },
     "output_type": "display_data"
    }
   ],
   "source": [
    "plt.title(\"biking vs heart disease\")\n",
    "plt.plot(\"biking\",\"heart.disease\",data=data)"
   ]
  },
  {
   "cell_type": "code",
   "execution_count": 100,
   "id": "70d26f8f",
   "metadata": {},
   "outputs": [
    {
     "data": {
      "image/png": "[encoded data removed]",
      "text/plain": [
       "<Figure size 432x288 with 4 Axes>"
      ]
     },
     "metadata": {
      "needs_background": "light"
     },
     "output_type": "display_data"
    }
   ],
   "source": [
    "data.hist()\n",
    "plt.show()"
   ]
  },
  {
   "cell_type": "code",
   "execution_count": 105,
   "id": "37b4f8ec",
   "metadata": {},
   "outputs": [
    {
     "data": {
      "image/png": "[encoded data removed]",
      "text/plain": [
       "<Figure size 432x288 with 1 Axes>"
      ]
     },
     "metadata": {
      "needs_background": "light"
     },
     "output_type": "display_data"
    }
   ],
   "source": [
    "plt.boxplot(data['smoking'])\n",
    "plt.xlabel(\"smoking\")\n",
    "plt.show()\n"
   ]
  },
  {
   "cell_type": "code",
   "execution_count": 106,
   "id": "a8b1ab40",
   "metadata": {},
   "outputs": [
    {
     "data": {
      "image/png": "[encoded data removed]",
      "text/plain": [
       "<Figure size 432x288 with 1 Axes>"
      ]
     },
     "metadata": {
      "needs_background": "light"
     },
     "output_type": "display_data"
    }
   ],
   "source": [
    "plt.boxplot(data['biking'])\n",
    "plt.xlabel(\"biking\")\n",
    "plt.show()"
   ]
  },
  {
   "cell_type": "code",
   "execution_count": 107,
   "id": "c9081f90",
   "metadata": {},
   "outputs": [
    {
     "data": {
      "image/png": "[encoded data removed]",
      "text/plain": [
       "<Figure size 432x288 with 1 Axes>"
      ]
     },
     "metadata": {
      "needs_background": "light"
     },
     "output_type": "display_data"
    }
   ],
   "source": [
    "plt.boxplot(data['heart.disease'])\n",
    "plt.xlabel(\"heart.disease\")\n",
    "plt.show()"
   ]
  },
  {
   "cell_type": "code",
   "execution_count": null,
   "id": "3b439195",
   "metadata": {},
   "outputs": [],
   "source": []
  }
 ],
 "metadata": {
  "kernelspec": {
   "display_name": "Python 3",
   "language": "python",
   "name": "python3"
  },
  "language_info": {
   "codemirror_mode": {
    "name": "ipython",
    "version": 3
   },
   "file_extension": ".py",
   "mimetype": "text/x-python",
   "name": "python",
   "nbconvert_exporter": "python",
   "pygments_lexer": "ipython3",
   "version": "3.8.8"
  }
 },
 "nbformat": 4,
 "nbformat_minor": 5
}
